{
 "cells": [
  {
   "cell_type": "code",
   "execution_count": 1,
   "id": "00ed372e",
   "metadata": {},
   "outputs": [],
   "source": [
    "def turun(b,a,x):\n",
    "    if(x<=a):\n",
    "        nilai = 1\n",
    "    elif(x>a and x<b):\n",
    "        nilai = (b-x)/(b-a)\n",
    "    elif(x>=b):\n",
    "        nilai = 0\n",
    "\n",
    "    return nilai"
   ]
  },
  {
   "cell_type": "code",
   "execution_count": 2,
   "id": "bee715be",
   "metadata": {},
   "outputs": [],
   "source": [
    "def naik(b,a,x):\n",
    "    if(x<=a):\n",
    "        nilai = 0\n",
    "    elif(x>a and x<b):\n",
    "        nilai = (x-a)/(b-a)\n",
    "    elif(x>=b):\n",
    "        nilai = 1\n",
    "\n",
    "    return nilai"
   ]
  },
  {
   "cell_type": "code",
   "execution_count": 3,
   "id": "c7e1bb18",
   "metadata": {},
   "outputs": [],
   "source": [
    "def agregasi_turun(b,a,alfa):\n",
    "    nilai = b - (alfa*(b-a))\n",
    "    return nilai"
   ]
  },
  {
   "cell_type": "code",
   "execution_count": 4,
   "id": "fa72c399",
   "metadata": {},
   "outputs": [],
   "source": [
    "def agregasi_naik(b,a,alfa):\n",
    "    nilai = alfa*(b-a) + a\n",
    "    return nilai"
   ]
  },
  {
   "cell_type": "code",
   "execution_count": 5,
   "id": "c75816a1",
   "metadata": {},
   "outputs": [
    {
     "name": "stdout",
     "output_type": "stream",
     "text": [
      "Jumlah variabel: 3\n",
      "Sebutkan nama variabel: kemasan\n",
      "Sebutkan nama variabel: proses\n",
      "Sebutkan nama variabel: harga\n"
     ]
    }
   ],
   "source": [
    "var = int(input(\"Jumlah variabel: \"))\n",
    "\n",
    "nama_var = []\n",
    "for i in range(var):\n",
    "    nama = input(\"Sebutkan nama variabel: \")\n",
    "    nama_var.append(nama)"
   ]
  },
  {
   "cell_type": "code",
   "execution_count": 10,
   "id": "dc31135a",
   "metadata": {},
   "outputs": [
    {
     "name": "stdout",
     "output_type": "stream",
     "text": [
      "kemasan\n",
      "naik : 1000\n",
      "turun : 100\n",
      "proses\n",
      "naik : 1\n",
      "turun : -10\n",
      "harga\n",
      "naik : 300000\n",
      "turun : 30000\n",
      "{'kemasan_naik': 1000, 'kemasan_turun': 100, 'proses_naik': 1, 'proses_turun': -10, 'harga_naik': 300000, 'harga_turun': 30000}\n"
     ]
    }
   ],
   "source": [
    "variabel = dict()\n",
    "for i in nama_var:\n",
    "    print(i)\n",
    "    up = int(input(\"naik : \"))\n",
    "    down = int(input(\"turun : \"))\n",
    "    variabel.update({i+\"_naik\":up})\n",
    "    variabel.update({i+\"_turun\":down})\n",
    "    \n",
    "print(variabel)"
   ]
  },
  {
   "cell_type": "code",
   "execution_count": 11,
   "id": "b5e97694",
   "metadata": {},
   "outputs": [
    {
     "name": "stdout",
     "output_type": "stream",
     "text": [
      "Jumlah variabel yang diketahui : 2\n",
      "Nama variabel : kemasan\n",
      "Nilai : 400\n",
      "Nama variabel : proses\n",
      "Nilai : -6\n",
      "{'kemasan': 400, 'proses': -6}\n",
      "Variabel yang ditanyakan : harga\n"
     ]
    }
   ],
   "source": [
    "soal = dict()\n",
    "\n",
    "jml = int(input(\"Jumlah variabel yang diketahui : \"))\n",
    "\n",
    "for i in range(jml):\n",
    "    ver = input(\"Nama variabel : \")\n",
    "    val = int(input(\"Nilai : \"))   \n",
    "    soal.update({ver:val})\n",
    "    \n",
    "print(soal)\n",
    "\n",
    "dit = input(\"Variabel yang ditanyakan : \")"
   ]
  },
  {
   "cell_type": "code",
   "execution_count": 12,
   "id": "a53285c5",
   "metadata": {},
   "outputs": [
    {
     "name": "stdout",
     "output_type": "stream",
     "text": [
      "{'kemasan_naik': 0.3333333333333333, 'kemasan_turun': 0.6666666666666666, 'proses_naik': 0.36363636363636365, 'proses_turun': 0.6363636363636364}\n"
     ]
    }
   ],
   "source": [
    "nk = dict()\n",
    "for i in soal:\n",
    "    up = naik(variabel[i+\"_naik\"],variabel[i+\"_turun\"],soal[i])\n",
    "    down = turun(variabel[i+\"_naik\"],variabel[i+\"_turun\"],soal[i])\n",
    "    nk.update({i+\"_naik\":up})\n",
    "    nk.update({i+\"_turun\":down})\n",
    "\n",
    "print(nk)"
   ]
  },
  {
   "cell_type": "raw",
   "id": "dae7cb01",
   "metadata": {},
   "source": [
    "[R1]   IF kemasan TURUN AND proses BANYAK, THEN harga berkurang;\n",
    "[R2]   IF kemasan TURUN AND proses SEDIKIT, THEN harga BERKURANG;\n",
    "[R3]   IF kemasan NAIK AND proses BANYAK, THEN harga BERTAMBAH;\n",
    "[R4]   IF kemasan NAIK AND proses SEDIKIT, THEN harga BERTAMBAH;"
   ]
  },
  {
   "cell_type": "code",
   "execution_count": 16,
   "id": "6462d300",
   "metadata": {},
   "outputs": [
    {
     "name": "stdout",
     "output_type": "stream",
     "text": [
      "Masukkan jumlah peraturan : 4\n",
      "Kondisi 1(naik/turun): kemasan_naik\n",
      "Kondisi 2(naik/turun): proses_turun\n",
      "Kesimpulan(naik/turun): naik\n",
      "Kondisi 1(naik/turun): kemasan_naik\n",
      "Kondisi 2(naik/turun): proses_naik\n",
      "Kesimpulan(naik/turun): naik\n",
      "Kondisi 1(naik/turun): kemasan_turun\n",
      "Kondisi 2(naik/turun): proses_naik\n",
      "Kesimpulan(naik/turun): turun\n",
      "Kondisi 1(naik/turun): kemasan_turun\n",
      "Kondisi 2(naik/turun): proses_turun\n",
      "Kesimpulan(naik/turun): turun\n"
     ]
    }
   ],
   "source": [
    "#AGREGASI\n",
    "alfa = []\n",
    "z = []\n",
    "\n",
    "r = int(input(\"Masukkan jumlah peraturan : \"))\n",
    "\n",
    "for i in range(r):\n",
    "    kondisi1 = input(\"Kondisi 1(naik/turun): \")\n",
    "    kondisi2 = input(\"Kondisi 2(naik/turun): \")\n",
    "    kesimpulan = input(\"Kesimpulan(naik/turun): \")\n",
    "    #Fire Strength INTERSEKSI (AND)\n",
    "    a = min(nk[kondisi1],nk[kondisi2]) \n",
    "    alfa.append(a)\n",
    "    if(kesimpulan == \"turun\"):\n",
    "        zz = agregasi_turun(variabel[dit+\"_naik\"],variabel[dit+\"_turun\"],a)\n",
    "    elif(kesimpulan == \"naik\"):\n",
    "        zz = agregasi_naik(variabel[dit+\"_naik\"],variabel[dit+\"_turun\"],a)        \n",
    "    z.append(zz)"
   ]
  },
  {
   "cell_type": "code",
   "execution_count": 17,
   "id": "3263766d",
   "metadata": {},
   "outputs": [
    {
     "name": "stdout",
     "output_type": "stream",
     "text": [
      "[0.3333333333333333, 0.3333333333333333, 0.36363636363636365, 0.6363636363636364]\n",
      "[120000.0, 120000.0, 201818.18181818182, 128181.81818181818]\n"
     ]
    }
   ],
   "source": [
    "print(alfa)\n",
    "print(z)"
   ]
  },
  {
   "cell_type": "code",
   "execution_count": 18,
   "id": "61044371",
   "metadata": {},
   "outputs": [
    {
     "name": "stdout",
     "output_type": "stream",
     "text": [
      "Jadi, nilai  harga  adalah  140975\n"
     ]
    }
   ],
   "source": [
    "#DEFUZIFIKASI\n",
    "df = 0\n",
    "\n",
    "for i in range(len(alfa)):\n",
    "    df += alfa[i]*z[i]\n",
    "\n",
    "defuz = int(df/sum(alfa))\n",
    "\n",
    "print(\"Jadi, nilai \",dit,\" adalah \",defuz)"
   ]
  },
  {
   "cell_type": "code",
   "execution_count": null,
   "id": "2df79275",
   "metadata": {},
   "outputs": [],
   "source": []
  }
 ],
 "metadata": {
  "kernelspec": {
   "display_name": "Python 3",
   "language": "python",
   "name": "python3"
  },
  "language_info": {
   "codemirror_mode": {
    "name": "ipython",
    "version": 3
   },
   "file_extension": ".py",
   "mimetype": "text/x-python",
   "name": "python",
   "nbconvert_exporter": "python",
   "pygments_lexer": "ipython3",
   "version": "3.8.0"
  }
 },
 "nbformat": 4,
 "nbformat_minor": 5
}
